{
 "cells": [
  {
   "cell_type": "code",
   "execution_count": 3,
   "metadata": {},
   "outputs": [],
   "source": [
    "import numpy as np\n",
    "import pandas as pd\n",
    "from prophet import Prophet\n",
    "import time"
   ]
  },
  {
   "cell_type": "code",
   "execution_count": 20,
   "metadata": {},
   "outputs": [],
   "source": [
    "nInst = 50\n",
    "currentPos = np.zeros(nInst)\n",
    "\n",
    "training_data = pd.read_csv(r'data/prices0to250.csv')\n",
    "prediction = training_data.copy()\n",
    "\n",
    "# Simulated date for prophet model\n",
    "start_date = '2023-07-01'\n",
    "date_range = pd.date_range(start=start_date, periods=250, freq='D')\n",
    "prediction['ds'] = date_range"
   ]
  },
  {
   "cell_type": "code",
   "execution_count": null,
   "metadata": {},
   "outputs": [],
   "source": [
    "def getPositionWithProphet(prcSoFar):\n",
    "    '''\n",
    "        [WORK IN PROGRESS]\n",
    "        An attempt at a trading algorithm using the Prophet library.\n",
    "        1. Grab existing data\n",
    "        2. Iterate through each stock and fit the model\n",
    "        3. Predict, number of days ahead proportional to the number of days of data \n",
    "        4. Use the prediction to determine the position\n",
    "    '''\n",
    "    global currentPos, training_data, prediction\n",
    "    # Parameters for prophet\n",
    "    ndays = 25 # Number of days to predict, stay at around 10%\n",
    "\n",
    "    \n",
    "    # Parameters for the trading algorithm\n",
    "    \n",
    "\n",
    "    \n",
    "    # Add one row to the prediction dataframe, with date\n",
    "\n",
    "\n",
    "    (nins, nt) = prcSoFar.shape # nins is the number of instruments and nt is the number of days of data\n",
    "    for i in range(nins):\n",
    "        # Create a dataframe with the date and price\n",
    "\n",
    "        # Fit the model\n",
    "\n",
    "        # Add predictions to the prediction dataframe\n",
    "        ...\n",
    "    # Begin determining positionn\n",
    "    for i in range(nins):\n",
    "\n",
    "    return currentPos"
   ]
  }
 ],
 "metadata": {
  "kernelspec": {
   "display_name": ".venv",
   "language": "python",
   "name": "python3"
  },
  "language_info": {
   "codemirror_mode": {
    "name": "ipython",
    "version": 3
   },
   "file_extension": ".py",
   "mimetype": "text/x-python",
   "name": "python",
   "nbconvert_exporter": "python",
   "pygments_lexer": "ipython3",
   "version": "3.12.1"
  }
 },
 "nbformat": 4,
 "nbformat_minor": 2
}
